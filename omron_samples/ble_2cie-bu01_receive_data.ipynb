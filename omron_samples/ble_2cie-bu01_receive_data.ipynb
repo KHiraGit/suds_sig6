{
 "cells": [
  {
   "cell_type": "markdown",
   "metadata": {},
   "source": [
    "* オムロン 環境センサ 2JCIE-BU01 のサンプルプログラム\n",
    "    * オムロン社から提供していただいたサンプルプログラムをベースに作成しています    \n",
    "* Bluetooth 接続する前のセンサから送信されるアドバタイズ（ブロードキャスト通信）を受信して表示\n"
   ]
  },
  {
   "cell_type": "code",
   "execution_count": 1,
   "metadata": {},
   "outputs": [],
   "source": [
    "import sys\n",
    "import time\n",
    "import asyncio\n",
    "from datetime import datetime\n",
    "from bleak import BleakScanner\n",
    "\n",
    "def bytetoint(buf, sig):\n",
    "    \"\"\"\n",
    "    bytes data retrieved from 2JCIE-BU01 to integer.\n",
    "    \"\"\"\n",
    "    return int.from_bytes(buf, byteorder='little', signed=sig)\n"
   ]
  },
  {
   "cell_type": "code",
   "execution_count": 2,
   "metadata": {},
   "outputs": [],
   "source": [
    "def advtype01(data, output_mode):\n",
    "    \"\"\"\n",
    "    print advertising packet : data type 1 (= sensor data)\n",
    "    \"\"\"\n",
    "    current_time        = str(datetime.now())\n",
    "    sequence_number     = str(bytetoint(data[1:2], False))\n",
    "    temparature         = str(bytetoint(data[2:4], True) / 100)\n",
    "    relative_humidity   = str(bytetoint(data[4:6], False) / 100)\n",
    "    ambient_light       = str(bytetoint(data[6:8], False))\n",
    "    barometric_pressure = str(bytetoint(data[8:12], False) / 1000)\n",
    "    sound_noise         = str(bytetoint(data[12:14], False) / 100)\n",
    "    eTVOC               = str(bytetoint(data[14:16], False))\n",
    "    eCO2                = str(bytetoint(data[16:18], False))\n",
    "    if output_mode == 'CSV':\n",
    "        print(current_time + \",01,\" + sequence_number + \",\" + temparature + \",\" + relative_humidity + \",\" + ambient_light + \",\" + barometric_pressure + \",\" + sound_noise + \",\" + eTVOC + \",\" + eCO2)\n",
    "    else:\n",
    "        print(\"Data Type: 01\", current_time)\n",
    "        print(\"Sequence number: \" + sequence_number)\n",
    "        print(\"Temparature [degreeC]: \" + temparature)\n",
    "        print(\"Relative humidity [%RH]: \" + relative_humidity)\n",
    "        print(\"Ambient light [lx]: \" + ambient_light)\n",
    "        print(\"Barometric pressure [hPa]: \" + barometric_pressure)\n",
    "        print(\"Sound noise (LA) [dB]: \" + sound_noise)\n",
    "        print(\"eTVOC [ppb]: \" + eTVOC)\n",
    "        print(\"eCO2 [ppm]: \" + eCO2)\n",
    "\n",
    "\n",
    "def advtype02(data, output_mode):\n",
    "    \"\"\"\n",
    "    print advertising packet : data type 2 (= calcuration data)\n",
    "    \"\"\"\n",
    "    current_time        = str(datetime.now())\n",
    "    sequence_number     = str(bytetoint(data[1:2], False))\n",
    "    discomfort_index    = str(bytetoint(data[2:4], False) / 100)\n",
    "    heat_stroke         = str(bytetoint(data[4:6], True) / 100)\n",
    "    vibration_inform    = str(bytetoint(data[6:7], False))\n",
    "    SI_value            = str(bytetoint(data[7:9], False) / 10)\n",
    "    PGA                 = str(bytetoint(data[9:11], False) / 10)\n",
    "    Seismic_intensity   = str(bytetoint(data[11:13], False) / 1000)\n",
    "    acceleration_x      = str(bytetoint(data[13:15], True) / 10)\n",
    "    acceleration_y      = str(bytetoint(data[15:17], True) / 10)\n",
    "    acceleration_z      = str(bytetoint(data[17:19], True) / 10)\n",
    "    if output_mode == 'CSV':\n",
    "        print(current_time + \",02,\" + sequence_number + \",\" + discomfort_index + \",\" + heat_stroke + \",\" + vibration_inform + \",\" + SI_value + \",\" + PGA + \",\" + Seismic_intensity + \",\" + acceleration_x + \",\" + acceleration_y + \",\" + acceleration_z)\n",
    "    else:\n",
    "        print(\"Data Type: 02\", current_time)\n",
    "        print(\"Sequence number: \" + sequence_number)\n",
    "        print(\"Discomfort index: \" + discomfort_index)\n",
    "        print(\"Heat stroke [degreeC]: \" + heat_stroke)\n",
    "        print(\"Vibration information: \" + vibration_inform)\n",
    "        print(\"SI value [kine]: \" + SI_value)\n",
    "        print(\"PGA [gal]: \" + PGA)\n",
    "        print(\"Seismic intensity: \" + Seismic_intensity)\n",
    "        print(\"Acceleration X-dir. [gal]: \" + acceleration_x)\n",
    "        print(\"Acceleration Y-dir. [gal]: \" + acceleration_y)\n",
    "        print(\"Acceleration Z-dir. [gal]: \" + acceleration_z)\n"
   ]
  },
  {
   "cell_type": "code",
   "execution_count": 3,
   "metadata": {},
   "outputs": [
    {
     "name": "stdout",
     "output_type": "stream",
     "text": [
      "CA:43:F0:B6:24:95,2024-05-02 10:17:46.506799,01,100,24.99,54.45,465,1014.436,54.72,113,1144\n",
      "CA:43:F0:B6:24:95,2024-05-02 10:17:46.507800,01,100,24.99,54.45,465,1014.436,54.72,113,1144\n",
      "CA:43:F0:B6:24:95,2024-05-02 10:17:46.717474,01,100,24.99,54.45,465,1014.436,54.72,113,1144\n",
      "CA:43:F0:B6:24:95,2024-05-02 10:17:46.718471,01,100,24.99,54.45,465,1014.436,54.72,113,1144\n",
      "CA:43:F0:B6:24:95,2024-05-02 10:17:48.278452,01,101,25.02,54.37,465,1014.443,53.88,113,1144\n",
      "CA:43:F0:B6:24:95,2024-05-02 10:17:48.279451,01,101,25.02,54.37,465,1014.443,53.88,113,1144\n",
      "CA:43:F0:B6:24:95,2024-05-02 10:17:48.383915,01,102,25.03,54.34,467,1014.447,52.72,115,1159\n",
      "CA:43:F0:B6:24:95,2024-05-02 10:17:48.383915,01,102,25.03,54.34,467,1014.447,52.72,115,1159\n",
      "CA:43:F0:B6:24:95,2024-05-02 10:17:50.289592,01,104,25.01,54.36,463,1014.453,53.91,115,1159\n",
      "CA:43:F0:B6:24:95,2024-05-02 10:17:50.290575,01,104,25.01,54.36,463,1014.453,53.91,115,1159\n",
      "CA:43:F0:B6:24:95,2024-05-02 10:17:51.320633,01,105,24.99,54.4,465,1014.459,52.28,115,1159\n",
      "CA:43:F0:B6:24:95,2024-05-02 10:17:51.321633,01,105,24.99,54.4,465,1014.459,52.28,115,1159\n",
      "CA:43:F0:B6:24:95,2024-05-02 10:17:52.368905,01,106,24.99,54.42,465,1014.464,53.68,115,1159\n",
      "CA:43:F0:B6:24:95,2024-05-02 10:17:52.370878,01,106,24.99,54.42,465,1014.464,53.68,115,1159\n"
     ]
    },
    {
     "ename": "CancelledError",
     "evalue": "",
     "output_type": "error",
     "traceback": [
      "\u001b[1;31m---------------------------------------------------------------------------\u001b[0m",
      "\u001b[1;31mCancelledError\u001b[0m                            Traceback (most recent call last)",
      "Cell \u001b[1;32mIn[3], line 29\u001b[0m\n\u001b[0;32m     26\u001b[0m     \u001b[38;5;28;01mfor\u001b[39;00m i \u001b[38;5;129;01min\u001b[39;00m \u001b[38;5;28mrange\u001b[39m(\u001b[38;5;241m10\u001b[39m):\n\u001b[0;32m     27\u001b[0m         devices \u001b[38;5;241m=\u001b[39m \u001b[38;5;28;01mawait\u001b[39;00m BleakScanner\u001b[38;5;241m.\u001b[39mdiscover(timeout\u001b[38;5;241m=\u001b[39m\u001b[38;5;241m1.0\u001b[39m, scanning_mode\u001b[38;5;241m=\u001b[39m\u001b[38;5;124m'\u001b[39m\u001b[38;5;124mactive\u001b[39m\u001b[38;5;124m'\u001b[39m, detection_callback\u001b[38;5;241m=\u001b[39madvcallback)\n\u001b[1;32m---> 29\u001b[0m \u001b[38;5;28;01mawait\u001b[39;00m run()\n",
      "Cell \u001b[1;32mIn[3], line 27\u001b[0m, in \u001b[0;36mrun\u001b[1;34m()\u001b[0m\n\u001b[0;32m     23\u001b[0m \u001b[38;5;250m\u001b[39m\u001b[38;5;124;03m\"\"\"\u001b[39;00m\n\u001b[0;32m     24\u001b[0m \u001b[38;5;124;03mscan bluetooth devices\u001b[39;00m\n\u001b[0;32m     25\u001b[0m \u001b[38;5;124;03m\"\"\"\u001b[39;00m\n\u001b[0;32m     26\u001b[0m \u001b[38;5;28;01mfor\u001b[39;00m i \u001b[38;5;129;01min\u001b[39;00m \u001b[38;5;28mrange\u001b[39m(\u001b[38;5;241m10\u001b[39m):\n\u001b[1;32m---> 27\u001b[0m     devices \u001b[38;5;241m=\u001b[39m \u001b[38;5;28;01mawait\u001b[39;00m BleakScanner\u001b[38;5;241m.\u001b[39mdiscover(timeout\u001b[38;5;241m=\u001b[39m\u001b[38;5;241m1.0\u001b[39m, scanning_mode\u001b[38;5;241m=\u001b[39m\u001b[38;5;124m'\u001b[39m\u001b[38;5;124mactive\u001b[39m\u001b[38;5;124m'\u001b[39m, detection_callback\u001b[38;5;241m=\u001b[39madvcallback)\n",
      "File \u001b[1;32me:\\work\\suds_sig6\\venv\\lib\\site-packages\\bleak\\__init__.py:318\u001b[0m, in \u001b[0;36mBleakScanner.discover\u001b[1;34m(cls, timeout, return_adv, **kwargs)\u001b[0m\n\u001b[0;32m    298\u001b[0m \u001b[38;5;250m\u001b[39m\u001b[38;5;124;03m\"\"\"\u001b[39;00m\n\u001b[0;32m    299\u001b[0m \u001b[38;5;124;03mScan continuously for ``timeout`` seconds and return discovered devices.\u001b[39;00m\n\u001b[0;32m    300\u001b[0m \n\u001b[1;32m   (...)\u001b[0m\n\u001b[0;32m    315\u001b[0m \u001b[38;5;124;03m    Added ``return_adv`` parameter.\u001b[39;00m\n\u001b[0;32m    316\u001b[0m \u001b[38;5;124;03m\"\"\"\u001b[39;00m\n\u001b[0;32m    317\u001b[0m \u001b[38;5;28;01masync\u001b[39;00m \u001b[38;5;28;01mwith\u001b[39;00m \u001b[38;5;28mcls\u001b[39m(\u001b[38;5;241m*\u001b[39m\u001b[38;5;241m*\u001b[39mkwargs) \u001b[38;5;28;01mas\u001b[39;00m scanner:\n\u001b[1;32m--> 318\u001b[0m     \u001b[38;5;28;01mawait\u001b[39;00m asyncio\u001b[38;5;241m.\u001b[39msleep(timeout)\n\u001b[0;32m    320\u001b[0m \u001b[38;5;28;01mif\u001b[39;00m return_adv:\n\u001b[0;32m    321\u001b[0m     \u001b[38;5;28;01mreturn\u001b[39;00m scanner\u001b[38;5;241m.\u001b[39mdiscovered_devices_and_advertisement_data\n",
      "File \u001b[1;32m~\\AppData\\Local\\Programs\\Python\\Python39\\lib\\asyncio\\tasks.py:656\u001b[0m, in \u001b[0;36msleep\u001b[1;34m(delay, result, loop)\u001b[0m\n\u001b[0;32m    652\u001b[0m h \u001b[38;5;241m=\u001b[39m loop\u001b[38;5;241m.\u001b[39mcall_later(delay,\n\u001b[0;32m    653\u001b[0m                     futures\u001b[38;5;241m.\u001b[39m_set_result_unless_cancelled,\n\u001b[0;32m    654\u001b[0m                     future, result)\n\u001b[0;32m    655\u001b[0m \u001b[38;5;28;01mtry\u001b[39;00m:\n\u001b[1;32m--> 656\u001b[0m     \u001b[38;5;28;01mreturn\u001b[39;00m \u001b[38;5;28;01mawait\u001b[39;00m future\n\u001b[0;32m    657\u001b[0m \u001b[38;5;28;01mfinally\u001b[39;00m:\n\u001b[0;32m    658\u001b[0m     h\u001b[38;5;241m.\u001b[39mcancel()\n",
      "\u001b[1;31mCancelledError\u001b[0m: "
     ]
    }
   ],
   "source": [
    "\n",
    "def advcallback(dev, advdata):\n",
    "    \"\"\"\n",
    "    discrimination of advertising mode  \n",
    "    \"\"\"\n",
    "    output_mode = 'CSV'\n",
    "    if ( dev.name == 'Rbt' ) :\n",
    "        if ( 0x02D5 in advdata.manufacturer_data.keys() ): #0x02D5=companyID\n",
    "            if output_mode == 'CSV':\n",
    "                print(dev.address, end=\",\")\n",
    "            else:\n",
    "                print(\"Address: \" + dev.address)\n",
    "            data = advdata.manufacturer_data[0x02D5]\n",
    "            if data[0] == 0x01: # mode 1\n",
    "                advtype01(data, output_mode)\n",
    "            elif data[0] == 0x02: # mode 2\n",
    "                advtype02(data, output_mode)\n",
    "            else:\n",
    "                print(\"\")\n",
    "                print(\"unknown: \" + str(data))\n",
    "\n",
    "\n",
    "async def run():\n",
    "    \"\"\"\n",
    "    scan bluetooth devices\n",
    "    \"\"\"\n",
    "    for i in range(10):\n",
    "        devices = await BleakScanner.discover(timeout=1.0, scanning_mode='active', detection_callback=advcallback)\n",
    "\n",
    "await run()"
   ]
  }
 ],
 "metadata": {
  "kernelspec": {
   "display_name": "venv",
   "language": "python",
   "name": "python3"
  },
  "language_info": {
   "codemirror_mode": {
    "name": "ipython",
    "version": 3
   },
   "file_extension": ".py",
   "mimetype": "text/x-python",
   "name": "python",
   "nbconvert_exporter": "python",
   "pygments_lexer": "ipython3",
   "version": "3.11.5"
  }
 },
 "nbformat": 4,
 "nbformat_minor": 2
}
