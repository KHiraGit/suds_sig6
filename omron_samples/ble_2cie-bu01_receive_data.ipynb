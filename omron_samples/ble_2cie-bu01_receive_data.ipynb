{
 "cells": [
  {
   "cell_type": "markdown",
   "metadata": {},
   "source": [
    "* オムロン 環境センサ 2JCIE-BU01 のサンプルプログラム\n",
    "    * オムロン社から提供していただいたサンプルプログラムをベースに作成しています    \n",
    "* Bluetooth 接続する前のセンサから送信されるアドバタイズ（ブロードキャスト通信）を受信して表示\n"
   ]
  },
  {
   "cell_type": "code",
   "execution_count": 1,
   "metadata": {},
   "outputs": [],
   "source": [
    "import sys\n",
    "import time\n",
    "import asyncio\n",
    "from datetime import datetime\n",
    "from bleak import BleakScanner\n",
    "\n",
    "def bytetoint(buf, sig):\n",
    "    \"\"\"\n",
    "    bytes data retrieved from 2JCIE-BU01 to integer.\n",
    "    \"\"\"\n",
    "    return int.from_bytes(buf, byteorder='little', signed=sig)\n"
   ]
  },
  {
   "cell_type": "code",
   "execution_count": 2,
   "metadata": {},
   "outputs": [],
   "source": [
    "def advtype01(data, output_mode):\n",
    "    \"\"\"\n",
    "    print advertising packet : data type 1 (= sensor data)\n",
    "    \"\"\"\n",
    "    current_time        = str(datetime.now())\n",
    "    sequence_number     = str(bytetoint(data[1:2], False))\n",
    "    temparature         = str(bytetoint(data[2:4], True) / 100)\n",
    "    relative_humidity   = str(bytetoint(data[4:6], False) / 100)\n",
    "    ambient_light       = str(bytetoint(data[6:8], False))\n",
    "    barometric_pressure = str(bytetoint(data[8:12], False) / 1000)\n",
    "    sound_noise         = str(bytetoint(data[12:14], False) / 100)\n",
    "    eTVOC               = str(bytetoint(data[14:16], False))\n",
    "    eCO2                = str(bytetoint(data[16:18], False))\n",
    "    if output_mode == 'CSV':\n",
    "        print(current_time + \",01,\" + sequence_number + \",\" + temparature + \",\" + relative_humidity + \",\" + ambient_light + \",\" + barometric_pressure + \",\" + sound_noise + \",\" + eTVOC + \",\" + eCO2)\n",
    "    else:\n",
    "        print(\"Data Type: 01\", current_time)\n",
    "        print(\"Sequence number: \" + sequence_number)\n",
    "        print(\"Temparature [degreeC]: \" + temparature)\n",
    "        print(\"Relative humidity [%RH]: \" + relative_humidity)\n",
    "        print(\"Ambient light [lx]: \" + ambient_light)\n",
    "        print(\"Barometric pressure [hPa]: \" + barometric_pressure)\n",
    "        print(\"Sound noise (LA) [dB]: \" + sound_noise)\n",
    "        print(\"eTVOC [ppb]: \" + eTVOC)\n",
    "        print(\"eCO2 [ppm]: \" + eCO2)\n",
    "\n",
    "\n",
    "def advtype02(data, output_mode):\n",
    "    \"\"\"\n",
    "    print advertising packet : data type 2 (= calcuration data)\n",
    "    \"\"\"\n",
    "    current_time        = str(datetime.now())\n",
    "    sequence_number     = str(bytetoint(data[1:2], False))\n",
    "    discomfort_index    = str(bytetoint(data[2:4], False) / 100)\n",
    "    heat_stroke         = str(bytetoint(data[4:6], True) / 100)\n",
    "    vibration_inform    = str(bytetoint(data[6:7], False))\n",
    "    SI_value            = str(bytetoint(data[7:9], False) / 10)\n",
    "    PGA                 = str(bytetoint(data[9:11], False) / 10)\n",
    "    Seismic_intensity   = str(bytetoint(data[11:13], False) / 1000)\n",
    "    acceleration_x      = str(bytetoint(data[13:15], True) / 10)\n",
    "    acceleration_y      = str(bytetoint(data[15:17], True) / 10)\n",
    "    acceleration_z      = str(bytetoint(data[17:19], True) / 10)\n",
    "    if output_mode == 'CSV':\n",
    "        print(current_time + \",02,\" + sequence_number + \",\" + discomfort_index + \",\" + heat_stroke + \",\" + vibration_inform + \",\" + SI_value + \",\" + PGA + \",\" + Seismic_intensity + \",\" + acceleration_x + \",\" + acceleration_y + \",\" + acceleration_z)\n",
    "    else:\n",
    "        print(\"Data Type: 02\", current_time)\n",
    "        print(\"Sequence number: \" + sequence_number)\n",
    "        print(\"Discomfort index: \" + discomfort_index)\n",
    "        print(\"Heat stroke [degreeC]: \" + heat_stroke)\n",
    "        print(\"Vibration information: \" + vibration_inform)\n",
    "        print(\"SI value [kine]: \" + SI_value)\n",
    "        print(\"PGA [gal]: \" + PGA)\n",
    "        print(\"Seismic intensity: \" + Seismic_intensity)\n",
    "        print(\"Acceleration X-dir. [gal]: \" + acceleration_x)\n",
    "        print(\"Acceleration Y-dir. [gal]: \" + acceleration_y)\n",
    "        print(\"Acceleration Z-dir. [gal]: \" + acceleration_z)\n"
   ]
  },
  {
   "cell_type": "code",
   "execution_count": 4,
   "metadata": {},
   "outputs": [
    {
     "name": "stdout",
     "output_type": "stream",
     "text": [
      "F9:E9:A4:FB:96:C9,2024-05-01 14:26:09.603615,01,105,22.54,72.66,75,1005.48,55.01,7,446\n",
      "F9:E9:A4:FB:96:C9,2024-05-01 14:26:09.606286,01,105,22.54,72.66,75,1005.48,55.01,7,446\n",
      "F9:E9:A4:FB:96:C9,2024-05-01 14:26:18.409051,01,114,22.49,72.97,75,1005.467,41.09,6,445\n",
      "F9:E9:A4:FB:96:C9,2024-05-01 14:26:18.410061,01,114,22.49,72.97,75,1005.467,41.09,6,445\n"
     ]
    }
   ],
   "source": [
    "\n",
    "def advcallback(dev, advdata):\n",
    "    \"\"\"\n",
    "    discrimination of advertising mode  \n",
    "    \"\"\"\n",
    "    output_mode = 'CSV'\n",
    "    if ( dev.name == 'Rbt' ) :\n",
    "        if ( 0x02D5 in advdata.manufacturer_data.keys() ): #0x02D5=companyID\n",
    "            if output_mode == 'CSV':\n",
    "                print(dev.address, end=\",\")\n",
    "            else:\n",
    "                print(\"Address: \" + dev.address)\n",
    "            data = advdata.manufacturer_data[0x02D5]\n",
    "            if data[0] == 0x01: # mode 1\n",
    "                advtype01(data, output_mode)\n",
    "            elif data[0] == 0x02: # mode 2\n",
    "                advtype02(data, output_mode)\n",
    "            else:\n",
    "                print(\"\")\n",
    "                print(\"unknown: \" + str(data))\n",
    "\n",
    "\n",
    "async def run():\n",
    "    \"\"\"\n",
    "    scan bluetooth devices\n",
    "    \"\"\"\n",
    "    for i in range(10):\n",
    "        devices = await BleakScanner.discover(timeout=1.0, scanning_mode='active', detection_callback=advcallback)\n",
    "\n",
    "await run()"
   ]
  }
 ],
 "metadata": {
  "kernelspec": {
   "display_name": "venv",
   "language": "python",
   "name": "python3"
  },
  "language_info": {
   "codemirror_mode": {
    "name": "ipython",
    "version": 3
   },
   "file_extension": ".py",
   "mimetype": "text/x-python",
   "name": "python",
   "nbconvert_exporter": "python",
   "pygments_lexer": "ipython3",
   "version": "3.11.5"
  }
 },
 "nbformat": 4,
 "nbformat_minor": 2
}
